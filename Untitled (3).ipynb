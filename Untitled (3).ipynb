{
 "cells": [
  {
   "cell_type": "code",
   "execution_count": 6,
   "id": "5baf1a65",
   "metadata": {},
   "outputs": [
    {
     "data": {
      "text/html": [
       "<div>\n",
       "<style scoped>\n",
       "    .dataframe tbody tr th:only-of-type {\n",
       "        vertical-align: middle;\n",
       "    }\n",
       "\n",
       "    .dataframe tbody tr th {\n",
       "        vertical-align: top;\n",
       "    }\n",
       "\n",
       "    .dataframe thead th {\n",
       "        text-align: right;\n",
       "    }\n",
       "</style>\n",
       "<table border=\"1\" class=\"dataframe\">\n",
       "  <thead>\n",
       "    <tr style=\"text-align: right;\">\n",
       "      <th></th>\n",
       "      <th>country_origin</th>\n",
       "      <th>currency</th>\n",
       "      <th>final_price</th>\n",
       "      <th>product_name</th>\n",
       "      <th>brand</th>\n",
       "      <th>category</th>\n",
       "      <th>in_stock</th>\n",
       "      <th>reviews_count</th>\n",
       "      <th>title</th>\n",
       "    </tr>\n",
       "  </thead>\n",
       "  <tbody>\n",
       "    <tr>\n",
       "      <th>2</th>\n",
       "      <td>Sweden</td>\n",
       "      <td>INR</td>\n",
       "      <td>2299.0</td>\n",
       "      <td>Slim Fit Zip-top fine-knit jumper</td>\n",
       "      <td>H&amp;M</td>\n",
       "      <td>Sweaters</td>\n",
       "      <td>True</td>\n",
       "      <td>4.3</td>\n",
       "      <td>Jumper in a soft, fine knit with a ribbed turt...</td>\n",
       "    </tr>\n",
       "    <tr>\n",
       "      <th>4</th>\n",
       "      <td>Sweden</td>\n",
       "      <td>INR</td>\n",
       "      <td>1999.0</td>\n",
       "      <td>Regular Fit Zip-through hoodie</td>\n",
       "      <td>H&amp;M</td>\n",
       "      <td>Hoodies</td>\n",
       "      <td>True</td>\n",
       "      <td>4.5</td>\n",
       "      <td>Zip-through hoodie in midweight sweatshirt fab...</td>\n",
       "    </tr>\n",
       "    <tr>\n",
       "      <th>7</th>\n",
       "      <td>Sweden</td>\n",
       "      <td>INR</td>\n",
       "      <td>7999.0</td>\n",
       "      <td>Double-breasted wool-blend coat</td>\n",
       "      <td>H&amp;M</td>\n",
       "      <td>Coats</td>\n",
       "      <td>True</td>\n",
       "      <td>4.0</td>\n",
       "      <td>Long double-breasted coat in a soft felted woo...</td>\n",
       "    </tr>\n",
       "    <tr>\n",
       "      <th>8</th>\n",
       "      <td>Sweden</td>\n",
       "      <td>INR</td>\n",
       "      <td>1299.0</td>\n",
       "      <td>Loose Fit Printed T-shirt</td>\n",
       "      <td>H&amp;M</td>\n",
       "      <td>Graphic Tees &amp; Printed T-Shirts</td>\n",
       "      <td>True</td>\n",
       "      <td>4.6</td>\n",
       "      <td>T-shirt in heavyweight cotton jersey with prin...</td>\n",
       "    </tr>\n",
       "    <tr>\n",
       "      <th>9</th>\n",
       "      <td>Sweden</td>\n",
       "      <td>INR</td>\n",
       "      <td>2999.0</td>\n",
       "      <td>Regular Fit Jacket</td>\n",
       "      <td>H&amp;M</td>\n",
       "      <td>Jackets</td>\n",
       "      <td>True</td>\n",
       "      <td>4.8</td>\n",
       "      <td>Jacket in woven fabric with a collar, zip down...</td>\n",
       "    </tr>\n",
       "  </tbody>\n",
       "</table>\n",
       "</div>"
      ],
      "text/plain": [
       "  country_origin currency  final_price                       product_name  \\\n",
       "2         Sweden      INR       2299.0  Slim Fit Zip-top fine-knit jumper   \n",
       "4         Sweden      INR       1999.0     Regular Fit Zip-through hoodie   \n",
       "7         Sweden      INR       7999.0    Double-breasted wool-blend coat   \n",
       "8         Sweden      INR       1299.0          Loose Fit Printed T-shirt   \n",
       "9         Sweden      INR       2999.0                 Regular Fit Jacket   \n",
       "\n",
       "  brand                         category  in_stock  reviews_count  \\\n",
       "2   H&M                         Sweaters      True            4.3   \n",
       "4   H&M                          Hoodies      True            4.5   \n",
       "7   H&M                            Coats      True            4.0   \n",
       "8   H&M  Graphic Tees & Printed T-Shirts      True            4.6   \n",
       "9   H&M                          Jackets      True            4.8   \n",
       "\n",
       "                                               title  \n",
       "2  Jumper in a soft, fine knit with a ribbed turt...  \n",
       "4  Zip-through hoodie in midweight sweatshirt fab...  \n",
       "7  Long double-breasted coat in a soft felted woo...  \n",
       "8  T-shirt in heavyweight cotton jersey with prin...  \n",
       "9  Jacket in woven fabric with a collar, zip down...  "
      ]
     },
     "execution_count": 6,
     "metadata": {},
     "output_type": "execute_result"
    }
   ],
   "source": [
    "import pandas as pd\n",
    "\n",
    "# Load the dataset\n",
    "df = pd.read_csv(\"H&M - Products.csv\")  # Adjust path if needed\n",
    "\n",
    "# Helper function to clean and convert prices to INR\n",
    "def convert_price(row):\n",
    "    price_str = str(row['final_price']).replace(',', '').strip()\n",
    "    currency = row['currency']\n",
    "    \n",
    "    try:\n",
    "        # Handle various currencies\n",
    "        if currency == 'INR':\n",
    "            price = float(price_str.replace('₹', '').strip())\n",
    "        elif currency == 'USD':\n",
    "            price = float(price_str.replace('$', '').strip()) * 83.5\n",
    "        elif currency == 'EUR':\n",
    "            price = float(price_str.replace('€', '').strip()) * 90.0\n",
    "        elif currency == 'GBP':\n",
    "            price = float(price_str.replace('£', '').strip()) * 104.0\n",
    "        else:\n",
    "            return None  # Handle unknown currencies\n",
    "    except Exception as e:\n",
    "        # Handle errors (e.g., invalid price formats)\n",
    "        return None\n",
    "    return round(price, 2)\n",
    "\n",
    "# Select and rename the required columns\n",
    "cleaned_df = df[[ \n",
    "    'county_of_origin', 'currency', 'final_price', 'product_name',\n",
    "    'brand', 'category', 'in_stock', 'reviews_count', 'description'\n",
    "]].rename(columns={\n",
    "    'county_of_origin': 'country_origin',\n",
    "    'description': 'title'\n",
    "})\n",
    "\n",
    "# Convert final_price to INR\n",
    "cleaned_df['final_price'] = cleaned_df.apply(convert_price, axis=1)\n",
    "\n",
    "# Convert reviews_count to numeric, coercing errors into NaN\n",
    "cleaned_df['reviews_count'] = pd.to_numeric(cleaned_df['reviews_count'], errors='coerce')\n",
    "\n",
    "# Drop rows where reviews_count is NaN\n",
    "cleaned_df = cleaned_df.dropna(subset=['reviews_count'])\n",
    "\n",
    "# Drop rows with missing essential values (except reviews_count)\n",
    "cleaned_df = cleaned_df.dropna(subset=[\n",
    "    'country_origin', 'currency', 'final_price', 'product_name',\n",
    "    'brand', 'category', 'in_stock', 'title'\n",
    "])\n",
    "\n",
    "# Ensure only the specified columns are kept\n",
    "final_df = cleaned_df[[\n",
    "    'country_origin', 'currency', 'final_price', 'product_name',\n",
    "    'brand', 'category', 'in_stock', 'reviews_count', 'title'\n",
    "]]\n",
    "\n",
    "# Save the cleaned dataset\n",
    "final_df.to_csv(\"cleaned_hm_products_final.csv\", index=False)\n",
    "\n",
    "# Display final DataFrame\n",
    "final_df.head()\n",
    "\n"
   ]
  },
  {
   "cell_type": "code",
   "execution_count": 7,
   "id": "bfff65c7",
   "metadata": {},
   "outputs": [
    {
     "data": {
      "text/plain": [
       "country_origin    0\n",
       "currency          0\n",
       "final_price       0\n",
       "product_name      0\n",
       "brand             0\n",
       "category          0\n",
       "in_stock          0\n",
       "reviews_count     0\n",
       "title             0\n",
       "dtype: int64"
      ]
     },
     "execution_count": 7,
     "metadata": {},
     "output_type": "execute_result"
    }
   ],
   "source": [
    "pd.isnull(final_df).sum()"
   ]
  },
  {
   "cell_type": "code",
   "execution_count": null,
   "id": "a22846e9",
   "metadata": {},
   "outputs": [],
   "source": [
    "myntra"
   ]
  },
  {
   "cell_type": "code",
   "execution_count": 8,
   "id": "243eee75",
   "metadata": {},
   "outputs": [
    {
     "name": "stdout",
     "output_type": "stream",
     "text": [
      " Final cleaned Myntra dataset (converted to INR) saved to Myntra_products_final_cleaned_inr.csv\n",
      "Shape of final cleaned dataset: (1000, 10)\n"
     ]
    }
   ],
   "source": [
    "import pandas as pd\n",
    "\n",
    "# Load the Myntra dataset\n",
    "df = pd.read_csv('Myntra_product.csv')\n",
    "\n",
    "# Define required source columns\n",
    "required_columns = ['product_id', 'rating_count', 'rating', 'currency', 'final_price', 'reviews', 'title', 'seller_name']\n",
    "\n",
    "# Select only needed columns\n",
    "df_selected = df[[col for col in required_columns if col in df.columns]]\n",
    "\n",
    "# Create the new dataframe in Amazon format\n",
    "df_cleaned = pd.DataFrame()\n",
    "\n",
    "# Add ID column\n",
    "df_cleaned['id'] = range(1, len(df_selected) + 1)\n",
    "\n",
    "# Map columns according to Amazon structure\n",
    "df_cleaned['brand'] = 'Myntra'  # since brand is not available, fill as 'Myntra'\n",
    "df_cleaned['name'] = df_selected['title']  # Assuming 'title' in Myntra is the product name\n",
    "df_cleaned['in_stock'] = 'available'  # Assume all products are available\n",
    "df_cleaned['actual_price'] = df_selected['final_price']\n",
    "df_cleaned['currency'] = df_selected['currency']\n",
    "df_cleaned['rating'] = df_selected['rating']\n",
    "df_cleaned['product_sku_name'] = df_selected['title']  # You might want to map this to a different field if needed\n",
    "df_cleaned['sku'] = df_selected['product_id']\n",
    "df_cleaned['title'] = df_selected['title']\n",
    "\n",
    "# Currency exchange rates (you can update with real-time rates)\n",
    "currency_to_inr = {\n",
    "    'USD': 82,    # 1 USD to INR (this is an example rate, replace with real-time data)\n",
    "    'EUR': 90,    # 1 EUR to INR (example rate)\n",
    "    'GBP': 103,   # 1 GBP to INR (example rate)\n",
    "    'AUD': 52     # 1 AUD to INR (example rate)\n",
    "}\n",
    "\n",
    "# Function to convert currency to INR\n",
    "def convert_to_inr(row):\n",
    "    currency = row['currency']\n",
    "    price = row['actual_price']\n",
    "    \n",
    "    # Check if the currency exists in the conversion dictionary\n",
    "    if currency in currency_to_inr:\n",
    "        return price * currency_to_inr[currency]\n",
    "    else:\n",
    "        # If the currency is not in the dictionary, assume the price is already in INR\n",
    "        return price\n",
    "\n",
    "# Convert the price to INR\n",
    "df_cleaned['actual_price'] = df_cleaned.apply(convert_to_inr, axis=1)\n",
    "\n",
    "# Handle missing values\n",
    "text_columns = ['brand', 'name', 'in_stock', 'currency', 'product_sku_name', 'sku', 'title']\n",
    "for col in text_columns:\n",
    "    df_cleaned[col] = df_cleaned[col].fillna('Not Available')\n",
    "\n",
    "numeric_columns = ['actual_price', 'rating']\n",
    "for col in numeric_columns:\n",
    "    df_cleaned[col] = df_cleaned[col].fillna(0)\n",
    "\n",
    "# Save the final cleaned dataset\n",
    "output_path = 'Myntra_products_final_cleaned_inr.csv'\n",
    "df_cleaned.to_csv(output_path, index=False)\n",
    "\n",
    "print(f\" Final cleaned Myntra dataset (converted to INR) saved to {output_path}\")\n",
    "print(f\"Shape of final cleaned dataset: {df_cleaned.shape}\")\n"
   ]
  },
  {
   "cell_type": "code",
   "execution_count": null,
   "id": "d2ae0c6b",
   "metadata": {},
   "outputs": [],
   "source": []
  },
  {
   "cell_type": "code",
   "execution_count": 5,
   "id": "73c5e566",
   "metadata": {},
   "outputs": [],
   "source": [
    "\n"
   ]
  },
  {
   "cell_type": "code",
   "execution_count": null,
   "id": "6e121e6e",
   "metadata": {},
   "outputs": [],
   "source": []
  },
  {
   "cell_type": "code",
   "execution_count": 60,
   "id": "873a4f06",
   "metadata": {},
   "outputs": [
    {
     "name": "stdout",
     "output_type": "stream",
     "text": [
      "Index(['name', 'brand', 'description', 'category', 'price', 'product_id',\n",
      "       'currency'],\n",
      "      dtype='object')\n",
      "                                           product_name   brand    price  \\\n",
      "1920  SHEIN Solid Color Plush Patchwork Lapel Waist ...   SHEIN  761.238   \n",
      "558                                          HIGHLANDER  Myntra    809.0   \n",
      "622                                         Tailoraedge  Myntra   1549.0   \n",
      "2148  pc Sonny Angels Cute Cupid Angel Doll Doll Bli...   SHEIN    48.84   \n",
      "1553                                   SUPERMAN X SHEIN   SHEIN    177.6   \n",
      "\n",
      "      rating   in_stock                 category  \n",
      "1920    4.96       True     Teen Girls Overcoats  \n",
      "558     0.00  available               HIGHLANDER  \n",
      "622     0.00  available              Tailoraedge  \n",
      "2148    0.00       True  Other Party Decorations  \n",
      "1553    4.97       True                           \n"
     ]
    }
   ],
   "source": [
    "import pandas as pd\n",
    "import numpy as np\n",
    "\n",
    "# Load Shein-aligned (already cleaned in previous steps)\n",
    "shein_aligned = pd.read_csv(\"Shein_Cleaned.csv\")[['product_name', 'brand', 'final_price', 'rating', 'in_stock', 'category']]\n",
    "shein_aligned = shein_aligned.rename(columns={'final_price': 'price'})\n",
    "shein_aligned['category'] = shein_aligned['category'].fillna(\"Unknown\")\n",
    "\n",
    "# Load H&M\n",
    "hm = pd.read_csv(\"cleaned_hm_products_final.csv\")[['product_name', 'brand', 'final_price', 'reviews_count', 'in_stock', 'category']]\n",
    "hm = hm.rename(columns={'final_price': 'price', 'reviews_count': 'rating'})\n",
    "\n",
    "# Load Myntra and clean\n",
    "myntra = pd.read_csv(\"Myntra_products_final_cleaned_inr.csv\")\n",
    "myntra['price'] = myntra['actual_price'].replace('[₹,]', '', regex=True).astype(float)\n",
    "myntra['category'] = myntra['title']\n",
    "myntra_aligned = myntra.rename(columns={\n",
    "    'name': 'product_name',\n",
    "    'brand': 'brand',\n",
    "    'rating': 'rating',\n",
    "    'in_stock': 'in_stock'\n",
    "})[['product_name', 'brand', 'price', 'rating', 'in_stock', 'category']]\n",
    "\n",
    "\n",
    "\n",
    "# Load ASOS and clean\n",
    "asos = pd.read_csv(\"Asos_Cleaned.csv\")\n",
    "print(asos.columns)\n",
    "asos_aligned = asos.rename(columns={\n",
    "    'name': 'product_name',\n",
    "    'brand': 'brand',\n",
    "    'price': 'price',\n",
    "    'category': 'category'\n",
    "})\n",
    "\n",
    "# Add missing columns\n",
    "asos_aligned['rating'] = np.nan  # or 0, depending on your preference\n",
    "asos_aligned['in_stock'] = 'Unknown'  # or True/False if you have logic\n",
    "\n",
    "# Select and reorder final columns\n",
    "asos_aligned = asos_aligned[['product_name', 'brand', 'price', 'rating', 'in_stock', 'category']]\n",
    "\n",
    "\n",
    "# Combine all datasets\n",
    "all_data = pd.concat([hm, myntra_aligned, shein_aligned, asos_aligned,asos_aligned], ignore_index=True)\n",
    "\n",
    "# Preview the merged dataset\n",
    "print(all_data.sample(5))\n",
    "\n",
    "# Save merged dataset to a CSV file\n",
    "all_data.to_csv(\"merged_ecommerce_products.csv\", index=False)\n",
    "df=pd.read_csv(\"merged_ecommerce_products.csv\")\n",
    "\n"
   ]
  },
  {
   "cell_type": "code",
   "execution_count": 10,
   "id": "c68a1c4c",
   "metadata": {},
   "outputs": [
    {
     "data": {
      "text/plain": [
       "product_name    0\n",
       "brand           0\n",
       "price           0\n",
       "rating          0\n",
       "in_stock        0\n",
       "category        0\n",
       "dtype: int64"
      ]
     },
     "execution_count": 10,
     "metadata": {},
     "output_type": "execute_result"
    }
   ],
   "source": [
    "import pandas as pd \n",
    "df=pd.read_csv(\"merged_ecommerce_products.csv\")\n",
    "pd.isnull(df).sum()"
   ]
  },
  {
   "cell_type": "code",
   "execution_count": null,
   "id": "ac7e28f3",
   "metadata": {},
   "outputs": [],
   "source": []
  },
  {
   "cell_type": "code",
   "execution_count": 8,
   "id": "44cb1088",
   "metadata": {},
   "outputs": [
    {
     "name": "stdout",
     "output_type": "stream",
     "text": [
      "Unknown values per column:\n",
      "category    36\n",
      "dtype: int64\n",
      "Original shape: (2445, 6)\n",
      "Cleaned shape: (2409, 6)\n",
      "Cleaned dataset saved to: cleaned_ecommerce_products.csv\n"
     ]
    }
   ],
   "source": [
    "# Step 1: Import required libraries\n",
    "import pandas as pd\n",
    "\n",
    "# Step 2: Load the dataset\n",
    "file_path = \"merged_ecommerce_products.csv\"  # Update path if needed\n",
    "df = pd.read_csv(file_path)\n",
    "\n",
    "# Step 3: Check for 'unknown' values in all columns\n",
    "unknown_values = df.applymap(lambda x: str(x).strip().lower() in ['unknown', 'unk', 'n/a', 'na', 'nan', '?'])\n",
    "\n",
    "# Step 4: Count 'unknown' values per column\n",
    "unknown_counts = unknown_values.sum()\n",
    "print(\"Unknown values per column:\")\n",
    "print(unknown_counts[unknown_counts > 0])\n",
    "\n",
    "# Step 5: Remove rows where 'category' has unknown-like values\n",
    "df_cleaned = df[~df['category'].str.strip().str.lower().isin(['unknown', 'unk', 'n/a', 'na', 'nan', '?'])]\n",
    "\n",
    "# Step 6: Confirm number of rows before and after cleaning\n",
    "print(f\"Original shape: {df.shape}\")\n",
    "print(f\"Cleaned shape: {df_cleaned.shape}\")\n",
    "\n",
    "# Step 7: Save the cleaned DataFrame to a new CSV file\n",
    "output_path = \"cleaned_ecommerce_products.csv\"\n",
    "df_cleaned.to_csv(output_path, index=False)\n",
    "print(f\"Cleaned dataset saved to: {output_path}\")\n"
   ]
  },
  {
   "cell_type": "code",
   "execution_count": 11,
   "id": "595aa3a2",
   "metadata": {},
   "outputs": [
    {
     "data": {
      "text/html": [
       "<div>\n",
       "<style scoped>\n",
       "    .dataframe tbody tr th:only-of-type {\n",
       "        vertical-align: middle;\n",
       "    }\n",
       "\n",
       "    .dataframe tbody tr th {\n",
       "        vertical-align: top;\n",
       "    }\n",
       "\n",
       "    .dataframe thead th {\n",
       "        text-align: right;\n",
       "    }\n",
       "</style>\n",
       "<table border=\"1\" class=\"dataframe\">\n",
       "  <thead>\n",
       "    <tr style=\"text-align: right;\">\n",
       "      <th></th>\n",
       "      <th>product_name</th>\n",
       "      <th>brand</th>\n",
       "      <th>price</th>\n",
       "      <th>rating</th>\n",
       "      <th>in_stock</th>\n",
       "      <th>category</th>\n",
       "    </tr>\n",
       "  </thead>\n",
       "  <tbody>\n",
       "    <tr>\n",
       "      <th>0</th>\n",
       "      <td>Slim Fit Zip-top fine-knit jumper</td>\n",
       "      <td>H&amp;M</td>\n",
       "      <td>2299.000</td>\n",
       "      <td>4.30</td>\n",
       "      <td>True</td>\n",
       "      <td>Sweaters</td>\n",
       "    </tr>\n",
       "    <tr>\n",
       "      <th>1</th>\n",
       "      <td>Regular Fit Zip-through hoodie</td>\n",
       "      <td>H&amp;M</td>\n",
       "      <td>1999.000</td>\n",
       "      <td>4.50</td>\n",
       "      <td>True</td>\n",
       "      <td>Hoodies</td>\n",
       "    </tr>\n",
       "    <tr>\n",
       "      <th>2</th>\n",
       "      <td>Double-breasted wool-blend coat</td>\n",
       "      <td>H&amp;M</td>\n",
       "      <td>7999.000</td>\n",
       "      <td>4.00</td>\n",
       "      <td>True</td>\n",
       "      <td>Coats</td>\n",
       "    </tr>\n",
       "    <tr>\n",
       "      <th>3</th>\n",
       "      <td>Loose Fit Printed T-shirt</td>\n",
       "      <td>H&amp;M</td>\n",
       "      <td>1299.000</td>\n",
       "      <td>4.60</td>\n",
       "      <td>True</td>\n",
       "      <td>Graphic Tees &amp; Printed T-Shirts</td>\n",
       "    </tr>\n",
       "    <tr>\n",
       "      <th>4</th>\n",
       "      <td>Regular Fit Jacket</td>\n",
       "      <td>H&amp;M</td>\n",
       "      <td>2999.000</td>\n",
       "      <td>4.80</td>\n",
       "      <td>True</td>\n",
       "      <td>Jackets</td>\n",
       "    </tr>\n",
       "    <tr>\n",
       "      <th>...</th>\n",
       "      <td>...</td>\n",
       "      <td>...</td>\n",
       "      <td>...</td>\n",
       "      <td>...</td>\n",
       "      <td>...</td>\n",
       "      <td>...</td>\n",
       "    </tr>\n",
       "    <tr>\n",
       "      <th>2440</th>\n",
       "      <td>pcs Random Color Creative Mini Finger Press An...</td>\n",
       "      <td>SHEIN</td>\n",
       "      <td>68.820</td>\n",
       "      <td>4.89</td>\n",
       "      <td>True</td>\n",
       "      <td>Collectibles Display &amp; Storage</td>\n",
       "    </tr>\n",
       "    <tr>\n",
       "      <th>2441</th>\n",
       "      <td>Realistic Counterfeit Money Mini Model Paper C...</td>\n",
       "      <td>SHEIN</td>\n",
       "      <td>40.848</td>\n",
       "      <td>4.80</td>\n",
       "      <td>False</td>\n",
       "      <td>Collectibles Display &amp; Storage</td>\n",
       "    </tr>\n",
       "    <tr>\n",
       "      <th>2442</th>\n",
       "      <td>Sanrio pc Cute Pendant - Skirt Bag Plush Penda...</td>\n",
       "      <td>Sanrio</td>\n",
       "      <td>42.624</td>\n",
       "      <td>4.93</td>\n",
       "      <td>True</td>\n",
       "      <td>Kids Plush Animals</td>\n",
       "    </tr>\n",
       "    <tr>\n",
       "      <th>2443</th>\n",
       "      <td>pc Random Color &amp; Design Digital Cube Toy Cyli...</td>\n",
       "      <td>SHEIN</td>\n",
       "      <td>51.060</td>\n",
       "      <td>4.92</td>\n",
       "      <td>False</td>\n",
       "      <td>Party Gifts</td>\n",
       "    </tr>\n",
       "    <tr>\n",
       "      <th>2444</th>\n",
       "      <td>Cartoon Slap Bracelets Unique Designs Fun Part...</td>\n",
       "      <td>SHEIN</td>\n",
       "      <td>77.700</td>\n",
       "      <td>4.93</td>\n",
       "      <td>True</td>\n",
       "      <td>Party Gifts</td>\n",
       "    </tr>\n",
       "  </tbody>\n",
       "</table>\n",
       "<p>2445 rows × 6 columns</p>\n",
       "</div>"
      ],
      "text/plain": [
       "                                           product_name   brand     price  \\\n",
       "0                     Slim Fit Zip-top fine-knit jumper     H&M  2299.000   \n",
       "1                        Regular Fit Zip-through hoodie     H&M  1999.000   \n",
       "2                       Double-breasted wool-blend coat     H&M  7999.000   \n",
       "3                             Loose Fit Printed T-shirt     H&M  1299.000   \n",
       "4                                    Regular Fit Jacket     H&M  2999.000   \n",
       "...                                                 ...     ...       ...   \n",
       "2440  pcs Random Color Creative Mini Finger Press An...   SHEIN    68.820   \n",
       "2441  Realistic Counterfeit Money Mini Model Paper C...   SHEIN    40.848   \n",
       "2442  Sanrio pc Cute Pendant - Skirt Bag Plush Penda...  Sanrio    42.624   \n",
       "2443  pc Random Color & Design Digital Cube Toy Cyli...   SHEIN    51.060   \n",
       "2444  Cartoon Slap Bracelets Unique Designs Fun Part...   SHEIN    77.700   \n",
       "\n",
       "      rating in_stock                         category  \n",
       "0       4.30     True                         Sweaters  \n",
       "1       4.50     True                          Hoodies  \n",
       "2       4.00     True                            Coats  \n",
       "3       4.60     True  Graphic Tees & Printed T-Shirts  \n",
       "4       4.80     True                          Jackets  \n",
       "...      ...      ...                              ...  \n",
       "2440    4.89     True   Collectibles Display & Storage  \n",
       "2441    4.80    False   Collectibles Display & Storage  \n",
       "2442    4.93     True               Kids Plush Animals  \n",
       "2443    4.92    False                      Party Gifts  \n",
       "2444    4.93     True                      Party Gifts  \n",
       "\n",
       "[2445 rows x 6 columns]"
      ]
     },
     "execution_count": 11,
     "metadata": {},
     "output_type": "execute_result"
    }
   ],
   "source": [
    "import pandas as pd\n",
    "df=pd.read_csv(\"merged_ecommerce_products.csv\")\n",
    "df"
   ]
  },
  {
   "cell_type": "code",
   "execution_count": 61,
   "id": "52ef729d",
   "metadata": {},
   "outputs": [
    {
     "name": "stdout",
     "output_type": "stream",
     "text": [
      "Shape: (2445, 6)\n",
      "Data Types:\n",
      " product_name     object\n",
      "brand            object\n",
      "price           float64\n",
      "rating          float64\n",
      "in_stock           bool\n",
      "category         object\n",
      "dtype: object\n",
      "Missing Values:\n",
      " product_name    0\n",
      "brand           0\n",
      "price           0\n",
      "rating          0\n",
      "in_stock        0\n",
      "category        0\n",
      "dtype: int64\n"
     ]
    },
    {
     "data": {
      "text/html": [
       "<div>\n",
       "<style scoped>\n",
       "    .dataframe tbody tr th:only-of-type {\n",
       "        vertical-align: middle;\n",
       "    }\n",
       "\n",
       "    .dataframe tbody tr th {\n",
       "        vertical-align: top;\n",
       "    }\n",
       "\n",
       "    .dataframe thead th {\n",
       "        text-align: right;\n",
       "    }\n",
       "</style>\n",
       "<table border=\"1\" class=\"dataframe\">\n",
       "  <thead>\n",
       "    <tr style=\"text-align: right;\">\n",
       "      <th></th>\n",
       "      <th>product_name</th>\n",
       "      <th>brand</th>\n",
       "      <th>price</th>\n",
       "      <th>rating</th>\n",
       "      <th>in_stock</th>\n",
       "      <th>category</th>\n",
       "    </tr>\n",
       "  </thead>\n",
       "  <tbody>\n",
       "    <tr>\n",
       "      <th>0</th>\n",
       "      <td>Slim Fit Zip-top fine-knit jumper</td>\n",
       "      <td>H&amp;M</td>\n",
       "      <td>2299.0</td>\n",
       "      <td>4.3</td>\n",
       "      <td>True</td>\n",
       "      <td>Sweaters</td>\n",
       "    </tr>\n",
       "    <tr>\n",
       "      <th>1</th>\n",
       "      <td>Regular Fit Zip-through hoodie</td>\n",
       "      <td>H&amp;M</td>\n",
       "      <td>1999.0</td>\n",
       "      <td>4.5</td>\n",
       "      <td>True</td>\n",
       "      <td>Hoodies</td>\n",
       "    </tr>\n",
       "    <tr>\n",
       "      <th>2</th>\n",
       "      <td>Double-breasted wool-blend coat</td>\n",
       "      <td>H&amp;M</td>\n",
       "      <td>7999.0</td>\n",
       "      <td>4.0</td>\n",
       "      <td>True</td>\n",
       "      <td>Coats</td>\n",
       "    </tr>\n",
       "    <tr>\n",
       "      <th>3</th>\n",
       "      <td>Loose Fit Printed T-shirt</td>\n",
       "      <td>H&amp;M</td>\n",
       "      <td>1299.0</td>\n",
       "      <td>4.6</td>\n",
       "      <td>True</td>\n",
       "      <td>Graphic Tees &amp; Printed T-Shirts</td>\n",
       "    </tr>\n",
       "    <tr>\n",
       "      <th>4</th>\n",
       "      <td>Regular Fit Jacket</td>\n",
       "      <td>H&amp;M</td>\n",
       "      <td>2999.0</td>\n",
       "      <td>4.8</td>\n",
       "      <td>True</td>\n",
       "      <td>Jackets</td>\n",
       "    </tr>\n",
       "  </tbody>\n",
       "</table>\n",
       "</div>"
      ],
      "text/plain": [
       "                        product_name brand   price  rating  in_stock  \\\n",
       "0  Slim Fit Zip-top fine-knit jumper   H&M  2299.0     4.3      True   \n",
       "1     Regular Fit Zip-through hoodie   H&M  1999.0     4.5      True   \n",
       "2    Double-breasted wool-blend coat   H&M  7999.0     4.0      True   \n",
       "3          Loose Fit Printed T-shirt   H&M  1299.0     4.6      True   \n",
       "4                 Regular Fit Jacket   H&M  2999.0     4.8      True   \n",
       "\n",
       "                          category  \n",
       "0                         Sweaters  \n",
       "1                          Hoodies  \n",
       "2                            Coats  \n",
       "3  Graphic Tees & Printed T-Shirts  \n",
       "4                          Jackets  "
      ]
     },
     "execution_count": 61,
     "metadata": {},
     "output_type": "execute_result"
    }
   ],
   "source": [
    "# Step 1: Load the cleaned data\n",
    "import pandas as pd\n",
    "import matplotlib.pyplot as plt\n",
    "import seaborn as sns\n",
    "\n",
    "# Load dataset\n",
    "df = pd.read_csv(\"merged_ecommerce_products (3).csv\")\n",
    "\n",
    "# Step 2: Basic overview\n",
    "print(\"Shape:\", df.shape)\n",
    "print(\"Data Types:\\n\", df.dtypes)\n",
    "print(\"Missing Values:\\n\", df.isnull().sum())\n",
    "df.head()\n",
    "\n"
   ]
  },
  {
   "cell_type": "code",
   "execution_count": 55,
   "id": "426f8cd8",
   "metadata": {},
   "outputs": [
    {
     "data": {
      "image/png": "[encoded data removed]",
      "text/plain": [
       "<Figure size 720x288 with 1 Axes>"
      ]
     },
     "metadata": {
      "needs_background": "light"
     },
     "output_type": "display_data"
    }
   ],
   "source": [
    "# Step 4: Price distribution\n",
    "plt.figure(figsize=(10, 4))\n",
    "sns.histplot(df['price'], bins=30, kde=True)\n",
    "plt.title(\"Price Distribution\")\n",
    "plt.xlabel(\"Price\")\n",
    "plt.show()\n",
    "\n",
    "\n"
   ]
  },
  {
   "cell_type": "code",
   "execution_count": 50,
   "id": "b48a579f",
   "metadata": {},
   "outputs": [
    {
     "data": {
      "image/png": "[encoded data removed]",
      "text/plain": [
       "<Figure size 720x360 with 1 Axes>"
      ]
     },
     "metadata": {
      "needs_background": "light"
     },
     "output_type": "display_data"
    }
   ],
   "source": [
    "# Step 5: Top brands\n",
    "top_brands = df['brand'].value_counts().head(10)\n",
    "plt.figure(figsize=(10, 5))\n",
    "sns.barplot(x=top_brands.values, y=top_brands.index)\n",
    "plt.title(\"Top 10 Brands by Product Count\")\n",
    "plt.xlabel(\"Number of Products\")\n",
    "plt.ylabel(\"Brand\")\n",
    "plt.show()\n"
   ]
  },
  {
   "cell_type": "code",
   "execution_count": 59,
   "id": "3173fa26",
   "metadata": {},
   "outputs": [
    {
     "data": {
      "image/png": "[encoded data removed]",
      "text/plain": [
       "<Figure size 576x360 with 1 Axes>"
      ]
     },
     "metadata": {
      "needs_background": "light"
     },
     "output_type": "display_data"
    }
   ],
   "source": [
    "import pandas as pd\n",
    "import matplotlib.pyplot as plt\n",
    "\n",
    "# Load\n",
    "df = pd.read_csv(\"merged_ecommerce_products (3).csv\")\n",
    "\n",
    "# 1) Identify top 10 categories by count\n",
    "top_cats = df['category'].value_counts().nlargest(10).index\n",
    "\n",
    "# 2) Subset to those\n",
    "df_top = df[df['category'].isin(top_cats)]\n",
    "\n",
    "# 3) Recompute counts\n",
    "counts = df_top['category'].value_counts().sort_values()\n",
    "\n",
    "# 4) Plot a clean horizontal bar chart\n",
    "fig, ax = plt.subplots(figsize=(8, 5))\n",
    "bars = ax.barh(counts.index, counts.values)\n",
    "\n",
    "# Annotate counts on bars\n",
    "for bar in bars:\n",
    "    w = bar.get_width()\n",
    "    ax.text(w + counts.max()*0.02, bar.get_y() + bar.get_height()/2,\n",
    "            f\"{w}\", va=\"center\")\n",
    "\n",
    "ax.set_title(\"Top 10 Categories by Product Count\", fontsize=14, pad=12)\n",
    "ax.set_xlabel(\"Number of Products\", fontsize=12)\n",
    "ax.set_ylabel(\"\")\n",
    "ax.margins(y=0.05)\n",
    "plt.tight_layout()\n",
    "plt.show()\n"
   ]
  },
  {
   "cell_type": "code",
   "execution_count": 51,
   "id": "8927ba46",
   "metadata": {},
   "outputs": [
    {
     "data": {
      "image/png": "[encoded data removed]",
      "text/plain": [
       "<Figure size 576x360 with 1 Axes>"
      ]
     },
     "metadata": {
      "needs_background": "light"
     },
     "output_type": "display_data"
    }
   ],
   "source": [
    "# Compute average price\n",
    "avg_price = df_top.groupby('category')['price'].mean().sort_values()\n",
    "\n",
    "fig, ax = plt.subplots(figsize=(8, 5))\n",
    "bars = ax.barh(avg_price.index, avg_price.values)\n",
    "\n",
    "for bar in bars:\n",
    "    w = bar.get_width()\n",
    "    ax.text(w + avg_price.max()*0.02, bar.get_y() + bar.get_height()/2,\n",
    "            f\"{w:.2f}\", va=\"center\")\n",
    "\n",
    "ax.set_title(\"Average Price for Top 10 Categories\", fontsize=14, pad=12)\n",
    "ax.set_xlabel(\"Average Price\", fontsize=12)\n",
    "ax.set_ylabel(\"\")\n",
    "ax.margins(y=0.05)\n",
    "plt.tight_layout()\n",
    "plt.show()\n",
    "\n",
    "\n",
    "\n"
   ]
  },
  {
   "cell_type": "code",
   "execution_count": 23,
   "id": "766370f6",
   "metadata": {},
   "outputs": [
    {
     "data": {
      "image/png": "[encoded data removed]",
      "text/plain": [
       "<Figure size 576x360 with 1 Axes>"
      ]
     },
     "metadata": {},
     "output_type": "display_data"
    }
   ],
   "source": [
    "# Step 3: Category distribution\n",
    "import pandas as pd\n",
    "import matplotlib.pyplot as plt\n",
    "\n",
    "# Load\n",
    "df = pd.read_csv(\"merged_ecommerce_products (3).csv\")\n",
    "\n",
    "# Get top 10 categories\n",
    "top10 = df['category'].value_counts().nlargest(10)\n",
    "\n",
    "# Plot in one line\n",
    "ax = top10.plot(kind='pie', figsize=(8, 5))\n",
    "ax.set_xlabel(\"Number of Products\")\n",
    "ax.set_ylabel(\"\")\n",
    "ax.set_title(\"Top 10 Categories by Product Count\")\n",
    "plt.tight_layout()\n",
    "plt.show()\n",
    "\n"
   ]
  },
  {
   "cell_type": "code",
   "execution_count": 46,
   "id": "24e8fbc5",
   "metadata": {},
   "outputs": [
    {
     "data": {
      "image/png": "[encoded data removed]",
      "text/plain": [
       "<Figure size 720x432 with 1 Axes>"
      ]
     },
     "metadata": {
      "needs_background": "light"
     },
     "output_type": "display_data"
    }
   ],
   "source": [
    "#Top Trending Categories\n",
    "import pandas as pd\n",
    "import matplotlib.pyplot as plt\n",
    "import seaborn as sns\n",
    "df=pd.read_csv(\"merged_ecommerce_products (3).csv\")\n",
    "df\n",
    "\n",
    "# Top 10 categories by total reviews\n",
    "top_categories = df.groupby('category')['rating'].sum().sort_values(ascending=False).head(10)\n",
    "\n",
    "plt.figure(figsize=(10,6))\n",
    "sns.barplot(x=top_categories.values, y=top_categories.index, palette='viridis')\n",
    "plt.title(\"Top 10 Product Categories by Rating Count\")\n",
    "plt.xlabel(\"Total rating\")\n",
    "plt.ylabel(\"Category\")\n",
    "plt.tight_layout()\n",
    "plt.show()\n"
   ]
  },
  {
   "cell_type": "code",
   "execution_count": 1,
   "id": "6190da06",
   "metadata": {},
   "outputs": [
    {
     "ename": "NameError",
     "evalue": "name 'df' is not defined",
     "output_type": "error",
     "traceback": [
      "\u001b[1;31m---------------------------------------------------------------------------\u001b[0m",
      "\u001b[1;31mNameError\u001b[0m                                 Traceback (most recent call last)",
      "Input \u001b[1;32mIn [1]\u001b[0m, in \u001b[0;36m<cell line: 3>\u001b[1;34m()\u001b[0m\n\u001b[0;32m      1\u001b[0m \u001b[38;5;66;03m#Price Trends by Category\u001b[39;00m\n\u001b[0;32m      2\u001b[0m \u001b[38;5;66;03m# Average price by category\u001b[39;00m\n\u001b[1;32m----> 3\u001b[0m avg_price_by_cat \u001b[38;5;241m=\u001b[39m \u001b[43mdf\u001b[49m\u001b[38;5;241m.\u001b[39mgroupby(\u001b[38;5;124m'\u001b[39m\u001b[38;5;124mcategory\u001b[39m\u001b[38;5;124m'\u001b[39m)[\u001b[38;5;124m'\u001b[39m\u001b[38;5;124mprice\u001b[39m\u001b[38;5;124m'\u001b[39m]\u001b[38;5;241m.\u001b[39mmean()\u001b[38;5;241m.\u001b[39msort_values(ascending\u001b[38;5;241m=\u001b[39m\u001b[38;5;28;01mFalse\u001b[39;00m)\u001b[38;5;241m.\u001b[39mhead(\u001b[38;5;241m10\u001b[39m)\n\u001b[0;32m      5\u001b[0m plt\u001b[38;5;241m.\u001b[39mfigure(figsize\u001b[38;5;241m=\u001b[39m(\u001b[38;5;241m10\u001b[39m,\u001b[38;5;241m6\u001b[39m))\n\u001b[0;32m      6\u001b[0m sns\u001b[38;5;241m.\u001b[39mbarplot(x\u001b[38;5;241m=\u001b[39mavg_price_by_cat\u001b[38;5;241m.\u001b[39mvalues, y\u001b[38;5;241m=\u001b[39mavg_price_by_cat\u001b[38;5;241m.\u001b[39mindex, palette\u001b[38;5;241m=\u001b[39m\u001b[38;5;124m'\u001b[39m\u001b[38;5;124mcoolwarm\u001b[39m\u001b[38;5;124m'\u001b[39m)\n",
      "\u001b[1;31mNameError\u001b[0m: name 'df' is not defined"
     ]
    }
   ],
   "source": [
    "#Price Trends by Category\n",
    "# Average price by category\n",
    "avg_price_by_cat = df.groupby('category')['price'].mean().sort_values(ascending=False).head(10)\n",
    "\n",
    "plt.figure(figsize=(10,6))\n",
    "sns.barplot(x=avg_price_by_cat.values, y=avg_price_by_cat.index, palette='coolwarm')\n",
    "plt.title(\"Average Price by Product Category (Top 10)\")\n",
    "plt.xlabel(\"Average Price (INR)\")\n",
    "plt.ylabel(\"category\")\n",
    "plt.tight_layout()\n",
    "plt.show()\n",
    "\n"
   ]
  },
  {
   "cell_type": "code",
   "execution_count": 47,
   "id": "cd85be96",
   "metadata": {},
   "outputs": [
    {
     "data": {
      "image/png": "[encoded data removed]",
      "text/plain": [
       "<Figure size 720x432 with 1 Axes>"
      ]
     },
     "metadata": {
      "needs_background": "light"
     },
     "output_type": "display_data"
    }
   ],
   "source": [
    "top_countries = df.groupby('brand')['rating'].sum().sort_values(ascending=False).head(10)\n",
    "\n",
    "plt.figure(figsize=(10,6))\n",
    "sns.barplot(x=top_countries.values, y=top_countries.index, palette='cubehelix')\n",
    "plt.title(\"Top brand by Product Review Count\")\n",
    "plt.xlabel(\"Rating\")\n",
    "plt.ylabel(\"Brand\")\n",
    "plt.tight_layout()\n",
    "plt.show()\n",
    "\n",
    "\n"
   ]
  },
  {
   "cell_type": "code",
   "execution_count": null,
   "id": "ee10f985",
   "metadata": {},
   "outputs": [],
   "source": []
  },
  {
   "cell_type": "code",
   "execution_count": 5,
   "id": "64f7be74",
   "metadata": {},
   "outputs": [
    {
     "data": {
      "image/png": "[encoded data removed]",
      "text/plain": [
       "<Figure size 720x432 with 1 Axes>"
      ]
     },
     "metadata": {
      "needs_background": "light"
     },
     "output_type": "display_data"
    }
   ],
   "source": [
    "import pandas as pd\n",
    "import matplotlib.pyplot as plt\n",
    "import seaborn as sns\n",
    "\n",
    "# Sample: load your dataframe\n",
    "df = pd.read_csv(\"merged_ecommerce_products (3).csv\")\n",
    "\n",
    "# Step 1: Group and calculate average price per category\n",
    "avg_price_by_cat = df.groupby('category', as_index=True)['price'].mean().sort_values(ascending=False).head(10)\n",
    "\n",
    "# Step 2: Convert to DataFrame (for clarity)\n",
    "avg_price_df = avg_price_by_cat.reset_index()\n",
    "\n",
    "# Step 3: Plot it\n",
    "plt.figure(figsize=(10, 6))\n",
    "sns.barplot(data=avg_price_df, x='price', y='category', palette='coolwarm')\n",
    "plt.title(\"Average Price by Product Category (Top 10)\")\n",
    "plt.xlabel(\"Average Price (INR)\")\n",
    "plt.ylabel(\"Product Category\")\n",
    "plt.tight_layout()\n",
    "plt.show()\n",
    "\n"
   ]
  },
  {
   "cell_type": "code",
   "execution_count": 56,
   "id": "3637c614",
   "metadata": {},
   "outputs": [
    {
     "data": {
      "image/png": "[encoded data removed]",
      "text/plain": [
       "<Figure size 576x288 with 1 Axes>"
      ]
     },
     "metadata": {
      "needs_background": "light"
     },
     "output_type": "display_data"
    }
   ],
   "source": [
    "plt.figure(figsize=(8, 4))\n",
    "sns.boxplot(x=df['price'])\n",
    "plt.title(\"Price Spread (Boxplot)\")\n",
    "plt.show()"
   ]
  },
  {
   "cell_type": "code",
   "execution_count": null,
   "id": "f495ab7d",
   "metadata": {},
   "outputs": [],
   "source": []
  },
  {
   "cell_type": "code",
   "execution_count": null,
   "id": "19feae40",
   "metadata": {},
   "outputs": [],
   "source": []
  }
 ],
 "metadata": {
  "kernelspec": {
   "display_name": "Python 3 (ipykernel)",
   "language": "python",
   "name": "python3"
  },
  "language_info": {
   "codemirror_mode": {
    "name": "ipython",
    "version": 3
   },
   "file_extension": ".py",
   "mimetype": "text/x-python",
   "name": "python",
   "nbconvert_exporter": "python",
   "pygments_lexer": "ipython3",
   "version": "3.9.12"
  }
 },
 "nbformat": 4,
 "nbformat_minor": 5
}
